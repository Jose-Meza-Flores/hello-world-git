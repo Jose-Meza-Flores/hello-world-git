{
  "nbformat": 4,
  "nbformat_minor": 0,
  "metadata": {
    "colab": {
      "provenance": [],
      "authorship_tag": "ABX9TyO6Vn+438iCZwkuiKnyh5nm",
      "include_colab_link": true
    },
    "kernelspec": {
      "name": "python3",
      "display_name": "Python 3"
    },
    "language_info": {
      "name": "python"
    }
  },
  "cells": [
    {
      "cell_type": "markdown",
      "metadata": {
        "id": "view-in-github",
        "colab_type": "text"
      },
      "source": [
        "<a href=\"https://colab.research.google.com/github/Jose-Meza-Flores/hello-world-git/blob/main/function2.ipynb\" target=\"_parent\"><img src=\"https://colab.research.google.com/assets/colab-badge.svg\" alt=\"Open In Colab\"/></a>"
      ]
    },
    {
      "cell_type": "code",
      "execution_count": 12,
      "metadata": {
        "colab": {
          "base_uri": "https://localhost:8080/"
        },
        "id": "8Y4u9JdFnTqA",
        "outputId": "59f9ce76-2c33-457f-80f4-4a380bc22d88"
      },
      "outputs": [
        {
          "name": "stdout",
          "output_type": "stream",
          "text": [
            "Cuantas listas quiere escribir?: 2\n"
          ]
        }
      ],
      "source": [
        "num_list = int(input('Cuantas listas quiere escribir?: '))"
      ]
    },
    {
      "cell_type": "code",
      "source": [
        "def get_list(nl):\n",
        "  num_pal = int(input(f'Cuántas palabras tiene la lista {nl}: '))\n",
        "  list_elem = []\n",
        "  for i in range(1,num_pal+1,1):\n",
        "    elem = input(f'Dígame la palabra {i}: ')\n",
        "    list_elem.append(elem)\n",
        "  print(f'La lista {nl} es: {list_elem}')\n"
      ],
      "metadata": {
        "id": "Ej03cbHbrnY0"
      },
      "execution_count": 17,
      "outputs": []
    },
    {
      "cell_type": "code",
      "source": [
        "for i in range(1,num_list+1,1):\n",
        "  get_list(i)"
      ],
      "metadata": {
        "colab": {
          "base_uri": "https://localhost:8080/"
        },
        "id": "9DTxf58co1iC",
        "outputId": "5e73bdf7-c1e5-447a-d016-ce4d38d9c6f7"
      },
      "execution_count": 18,
      "outputs": [
        {
          "output_type": "stream",
          "name": "stdout",
          "text": [
            "Cuántas palabras tiene la lista 1: 3\n",
            "Dígame la palabra 1: A\n",
            "Dígame la palabra 2: B\n",
            "Dígame la palabra 3: C\n",
            "La lista 1 es: ['A', 'B', 'C']\n",
            "Cuántas palabras tiene la lista 2: 2\n",
            "Dígame la palabra 1: D\n",
            "Dígame la palabra 2: E\n",
            "La lista 2 es: ['D', 'E']\n"
          ]
        }
      ]
    }
  ]
}